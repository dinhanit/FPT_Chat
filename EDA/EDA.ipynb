{
 "cells": [
  {
   "cell_type": "code",
   "execution_count": 1,
   "metadata": {},
   "outputs": [],
   "source": [
    "import pandas as pd\n",
    "import numpy as np\n",
    "df = pd.read_csv(r\"sents.txt\", sep=\".\",header=None)\n",
    "df = df.rename(columns={0 : 'Feedback'})\n",
    "df.drop(1, axis=1, inplace=True)\n",
    "df_sentiment = pd.read_csv(r\"sentiments.txt\",header=None)\n",
    "df_topic = pd.read_csv(r\"topics.txt\",header=None)"
   ]
  },
  {
   "cell_type": "code",
   "execution_count": 2,
   "metadata": {},
   "outputs": [
    {
     "data": {
      "text/plain": [
       "0        negative\n",
       "1        negative\n",
       "2        positive\n",
       "3        negative\n",
       "4        negative\n",
       "           ...   \n",
       "16170    negative\n",
       "16171    positive\n",
       "16172    negative\n",
       "16173    positive\n",
       "16174    positive\n",
       "Name: 0, Length: 16175, dtype: object"
      ]
     },
     "execution_count": 2,
     "metadata": {},
     "output_type": "execute_result"
    }
   ],
   "source": [
    "sentiments_dict = {\n",
    "    0:\"negative\",\n",
    "    1:\"neutral\",\n",
    "    2:\"positive\",\n",
    "}\n",
    "def update_sentiments(col):\n",
    "    for i in range(len(col)):\n",
    "        col[i] = sentiments_dict[col[i]]\n",
    "    return col\n",
    "update_sentiments(df_sentiment[0])"
   ]
  },
  {
   "cell_type": "code",
   "execution_count": 3,
   "metadata": {},
   "outputs": [
    {
     "data": {
      "text/plain": [
       "0        Curriculum\n",
       "1           Lecture\n",
       "2           Lecture\n",
       "3           Lecture\n",
       "4           Lecture\n",
       "            ...    \n",
       "16170    Curriculum\n",
       "16171       Lecture\n",
       "16172       Lecture\n",
       "16173       Lecture\n",
       "16174       Lecture\n",
       "Name: 0, Length: 16175, dtype: object"
      ]
     },
     "execution_count": 3,
     "metadata": {},
     "output_type": "execute_result"
    }
   ],
   "source": [
    "topic_dict = {\n",
    "    0:\"Lecture\",\n",
    "    1:\"Curriculum\",\n",
    "    2:\"Facility\",\n",
    "    3:\"Others\",\n",
    "}\n",
    "def update_topic(col):\n",
    "    for i in range(len(col)):\n",
    "        col[i] = topic_dict[col[i]]\n",
    "    return col\n",
    "\n",
    "update_topic(df_topic[0])"
   ]
  },
  {
   "cell_type": "code",
   "execution_count": 4,
   "metadata": {},
   "outputs": [
    {
     "data": {
      "text/html": [
       "<div>\n",
       "<style scoped>\n",
       "    .dataframe tbody tr th:only-of-type {\n",
       "        vertical-align: middle;\n",
       "    }\n",
       "\n",
       "    .dataframe tbody tr th {\n",
       "        vertical-align: top;\n",
       "    }\n",
       "\n",
       "    .dataframe thead th {\n",
       "        text-align: right;\n",
       "    }\n",
       "</style>\n",
       "<table border=\"1\" class=\"dataframe\">\n",
       "  <thead>\n",
       "    <tr style=\"text-align: right;\">\n",
       "      <th></th>\n",
       "      <th>Feedback</th>\n",
       "      <th>Sentiment</th>\n",
       "      <th>Topic</th>\n",
       "    </tr>\n",
       "  </thead>\n",
       "  <tbody>\n",
       "    <tr>\n",
       "      <th>0</th>\n",
       "      <td>giáo trình chưa cụ thể</td>\n",
       "      <td>negative</td>\n",
       "      <td>Curriculum</td>\n",
       "    </tr>\n",
       "    <tr>\n",
       "      <th>1</th>\n",
       "      <td>giảng buồn ngủ</td>\n",
       "      <td>negative</td>\n",
       "      <td>Lecture</td>\n",
       "    </tr>\n",
       "    <tr>\n",
       "      <th>2</th>\n",
       "      <td>giáo viên vui tính , tận tâm</td>\n",
       "      <td>positive</td>\n",
       "      <td>Lecture</td>\n",
       "    </tr>\n",
       "    <tr>\n",
       "      <th>3</th>\n",
       "      <td>giảng viên nên giao bài tập nhiều hơn , chia n...</td>\n",
       "      <td>negative</td>\n",
       "      <td>Lecture</td>\n",
       "    </tr>\n",
       "    <tr>\n",
       "      <th>4</th>\n",
       "      <td>giảng viên cần giảng bài chi tiết hơn , đi sâu...</td>\n",
       "      <td>negative</td>\n",
       "      <td>Lecture</td>\n",
       "    </tr>\n",
       "    <tr>\n",
       "      <th>...</th>\n",
       "      <td>...</td>\n",
       "      <td>...</td>\n",
       "      <td>...</td>\n",
       "    </tr>\n",
       "    <tr>\n",
       "      <th>16170</th>\n",
       "      <td>chỉ vì môn game mà em học hai lần mà không qua...</td>\n",
       "      <td>negative</td>\n",
       "      <td>Curriculum</td>\n",
       "    </tr>\n",
       "    <tr>\n",
       "      <th>16171</th>\n",
       "      <td>em cảm ơn cô nhiều</td>\n",
       "      <td>positive</td>\n",
       "      <td>Lecture</td>\n",
       "    </tr>\n",
       "    <tr>\n",
       "      <th>16172</th>\n",
       "      <td>giao bài tập quá nhiều</td>\n",
       "      <td>negative</td>\n",
       "      <td>Lecture</td>\n",
       "    </tr>\n",
       "    <tr>\n",
       "      <th>16173</th>\n",
       "      <td>giáo viên dạy dễ hiểu , nhiệt tình</td>\n",
       "      <td>positive</td>\n",
       "      <td>Lecture</td>\n",
       "    </tr>\n",
       "    <tr>\n",
       "      <th>16174</th>\n",
       "      <td>gói gọn doubledot hay , tận tình , phù hợp với...</td>\n",
       "      <td>positive</td>\n",
       "      <td>Lecture</td>\n",
       "    </tr>\n",
       "  </tbody>\n",
       "</table>\n",
       "<p>16175 rows × 3 columns</p>\n",
       "</div>"
      ],
      "text/plain": [
       "                                                Feedback Sentiment       Topic\n",
       "0                                giáo trình chưa cụ thể   negative  Curriculum\n",
       "1                                        giảng buồn ngủ   negative     Lecture\n",
       "2                          giáo viên vui tính , tận tâm   positive     Lecture\n",
       "3      giảng viên nên giao bài tập nhiều hơn , chia n...  negative     Lecture\n",
       "4      giảng viên cần giảng bài chi tiết hơn , đi sâu...  negative     Lecture\n",
       "...                                                  ...       ...         ...\n",
       "16170  chỉ vì môn game mà em học hai lần mà không qua...  negative  Curriculum\n",
       "16171                                em cảm ơn cô nhiều   positive     Lecture\n",
       "16172                            giao bài tập quá nhiều   negative     Lecture\n",
       "16173                giáo viên dạy dễ hiểu , nhiệt tình   positive     Lecture\n",
       "16174  gói gọn doubledot hay , tận tình , phù hợp với...  positive     Lecture\n",
       "\n",
       "[16175 rows x 3 columns]"
      ]
     },
     "execution_count": 4,
     "metadata": {},
     "output_type": "execute_result"
    }
   ],
   "source": [
    "df['Sentiment'] = df_sentiment\n",
    "df['Topic']=df_topic\n",
    "df"
   ]
  },
  {
   "cell_type": "code",
   "execution_count": 5,
   "metadata": {},
   "outputs": [
    {
     "data": {
      "text/plain": [
       "(16175, 3)"
      ]
     },
     "execution_count": 5,
     "metadata": {},
     "output_type": "execute_result"
    }
   ],
   "source": [
    "df.shape"
   ]
  },
  {
   "cell_type": "code",
   "execution_count": 6,
   "metadata": {},
   "outputs": [],
   "source": [
    "import matplotlib.pyplot as plt"
   ]
  },
  {
   "cell_type": "code",
   "execution_count": 7,
   "metadata": {},
   "outputs": [
    {
     "data": {
      "text/plain": [
       "([<matplotlib.patches.Wedge at 0x2c1c072e550>,\n",
       "  <matplotlib.patches.Wedge at 0x2c1c073c590>,\n",
       "  <matplotlib.patches.Wedge at 0x2c1c073e350>],\n",
       " [Text(0.13818449830760954, 1.091285959053572, 'Negative'),\n",
       "  Text(-1.0925640300856791, 0.12768649170111718, 'Neutral'),\n",
       "  Text(0.010575384228815337, -1.099949163029098, 'Positive')],\n",
       " [Text(0.07537336271324155, 0.5952468867564937, '45.99%'),\n",
       "  Text(-0.5959440164103704, 0.06964717729151845, '4.32%'),\n",
       "  Text(0.0057683913975356375, -0.5999722707431443, '49.69%')])"
      ]
     },
     "execution_count": 7,
     "metadata": {},
     "output_type": "execute_result"
    },
    {
     "data": {
      "image/png": "[encoded data removed]",
      "text/plain": [
       "<Figure size 640x480 with 1 Axes>"
      ]
     },
     "metadata": {},
     "output_type": "display_data"
    }
   ],
   "source": [
    "sentiments_plt = [df['Sentiment'].value_counts()['negative'], df['Sentiment'].value_counts()['neutral'], df['Sentiment'].value_counts()['positive']]\n",
    "labels = [\"Negative\", \"Neutral\", \"Positive\"]\n",
    "\n",
    "fig, ax = plt.subplots()\n",
    "ax.pie(sentiments_plt, labels=labels, autopct='%1.2f%%')"
   ]
  },
  {
   "cell_type": "code",
   "execution_count": 8,
   "metadata": {},
   "outputs": [
    {
     "data": {
      "text/plain": [
       "([<matplotlib.patches.Wedge at 0x2c1bf6a7310>,\n",
       "  <matplotlib.patches.Wedge at 0x2c1c07daf90>,\n",
       "  <matplotlib.patches.Wedge at 0x2c1c07e4b10>,\n",
       "  <matplotlib.patches.Wedge at 0x2c1c07e68d0>],\n",
       " [Text(-0.6947261372464173, 0.8528514490968943, 'Lecture'),\n",
       "  Text(0.4149487129203974, -1.0187333142906958, 'Curriculum'),\n",
       "  Text(0.9879594297407164, -0.48366947927939247, 'Facility'),\n",
       "  Text(1.0862137517367765, -0.17360784987412428, 'Others')],\n",
       " [Text(-0.3789415294071367, 0.4651916995073968, '71.76%'),\n",
       "  Text(0.226335661592944, -0.5556727168858341, '18.79%'),\n",
       "  Text(0.5388869616767543, -0.2638197159705777, '4.40%'),\n",
       "  Text(0.5924802282200599, -0.09469519084043142, '5.04%')])"
      ]
     },
     "execution_count": 8,
     "metadata": {},
     "output_type": "execute_result"
    },
    {
     "data": {
      "image/png": "[encoded data removed]",
      "text/plain": [
       "<Figure size 640x480 with 1 Axes>"
      ]
     },
     "metadata": {},
     "output_type": "display_data"
    }
   ],
   "source": [
    "topic_plt= [df['Topic'].value_counts()['Lecture'], df['Topic'].value_counts()['Curriculum'], df['Topic'].value_counts()['Facility'], df['Topic'].value_counts()['Others']]\n",
    "labels=['Lecture','Curriculum','Facility','Others']\n",
    "fig, ax = plt.subplots()\n",
    "ax.pie(topic_plt, labels=labels, autopct='%1.2f%%')"
   ]
  },
  {
   "cell_type": "code",
   "execution_count": null,
   "metadata": {},
   "outputs": [],
   "source": []
  }
 ],
 "metadata": {
  "kernelspec": {
   "display_name": "Python 3.11.0 64-bit",
   "language": "python",
   "name": "python3"
  },
  "language_info": {
   "codemirror_mode": {
    "name": "ipython",
    "version": 3
   },
   "file_extension": ".py",
   "mimetype": "text/x-python",
   "name": "python",
   "nbconvert_exporter": "python",
   "pygments_lexer": "ipython3",
   "version": "3.11.0"
  },
  "orig_nbformat": 4,
  "vscode": {
   "interpreter": {
    "hash": "87eb1db5ff705e176174d30e5d25282fca28526f4d98dbab856dc08a5d05a864"
   }
  }
 },
 "nbformat": 4,
 "nbformat_minor": 2
}
